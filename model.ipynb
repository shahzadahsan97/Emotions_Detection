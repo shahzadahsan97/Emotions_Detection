{
 "cells": [
  {
   "cell_type": "code",
   "execution_count": 1,
   "metadata": {},
   "outputs": [
    {
     "name": "stderr",
     "output_type": "stream",
     "text": [
      "C:\\Users\\Shahzad Ahsan\\Anaconda3\\lib\\site-packages\\h5py\\__init__.py:36: FutureWarning: Conversion of the second argument of issubdtype from `float` to `np.floating` is deprecated. In future, it will be treated as `np.float64 == np.dtype(float).type`.\n",
      "  from ._conv import register_converters as _register_converters\n",
      "Using TensorFlow backend.\n"
     ]
    }
   ],
   "source": [
    "from keras.models import Sequential\n",
    "from keras.optimizers import SGD,Adadelta\n",
    "from keras.layers.core import Flatten, Dense, Dropout\n",
    "from keras.layers.convolutional import Convolution2D, MaxPooling2D, ZeroPadding2D,AveragePooling2D\n",
    "from keras.layers import Input, Dense, Dropout, Activation, Flatten\n",
    "from keras.layers.advanced_activations import PReLU\n",
    "import keras\n",
    "\n",
    "def VGG():\n",
    "    img_rows, img_cols = 48, 48\n",
    "    model = Sequential()\n",
    "    model.add(Convolution2D(64, 5, 5, border_mode='valid',\n",
    "                            input_shape=(img_rows, img_cols, 1)))\n",
    "    model.add(PReLU(init='zero', weights=None))\n",
    "    model.add(ZeroPadding2D(padding=(2, 2), dim_ordering='tf'))\n",
    "    model.add(MaxPooling2D(pool_size=(5, 5), strides=(2, 2)))\n",
    "\n",
    "    model.add(ZeroPadding2D(padding=(1, 1), dim_ordering='tf'))\n",
    "    model.add(Convolution2D(64, 3, 3))\n",
    "    model.add(PReLU(init='zero', weights=None))\n",
    "    model.add(ZeroPadding2D(padding=(1, 1), dim_ordering='tf'))\n",
    "    model.add(Convolution2D(64, 3, 3))\n",
    "    model.add(PReLU(init='zero', weights=None))\n",
    "    model.add(AveragePooling2D(pool_size=(3, 3), strides=(2, 2)))\n",
    "\n",
    "    model.add(ZeroPadding2D(padding=(1, 1), dim_ordering='tf'))\n",
    "    model.add(Convolution2D(128, 3, 3))\n",
    "    model.add(PReLU(init='zero', weights=None))\n",
    "    model.add(ZeroPadding2D(padding=(1, 1), dim_ordering='tf'))\n",
    "    model.add(Convolution2D(128, 3, 3))\n",
    "    model.add(PReLU(init='zero', weights=None))\n",
    "\n",
    "    model.add(ZeroPadding2D(padding=(1, 1), dim_ordering='tf'))\n",
    "    model.add(AveragePooling2D(pool_size=(3, 3), strides=(2, 2)))\n",
    "\n",
    "    model.add(Flatten())\n",
    "    model.add(Dense(1024))\n",
    "    model.add(PReLU(init='zero', weights=None))\n",
    "    model.add(Dropout(0.2))\n",
    "    model.add(Dense(1024))\n",
    "    model.add(PReLU(init='zero', weights=None))\n",
    "    model.add(Dropout(0.2))\n",
    "\n",
    "    model.add(Dense(6))\n",
    "\n",
    "    model.add(Activation('softmax'))\n",
    "\n",
    "    ada = Adadelta(lr=0.1, rho=0.95, epsilon=1e-08)\n",
    "    model.compile(loss='categorical_crossentropy',\n",
    "                  optimizer=ada,\n",
    "                  metrics=['accuracy'])\n",
    "    \n",
    "    return model\n",
    "\n",
    "\n"
   ]
  },
  {
   "cell_type": "code",
   "execution_count": null,
   "metadata": {},
   "outputs": [],
   "source": []
  }
 ],
 "metadata": {
  "kernelspec": {
   "display_name": "Python 3",
   "language": "python",
   "name": "python3"
  },
  "language_info": {
   "codemirror_mode": {
    "name": "ipython",
    "version": 3
   },
   "file_extension": ".py",
   "mimetype": "text/x-python",
   "name": "python",
   "nbconvert_exporter": "python",
   "pygments_lexer": "ipython3",
   "version": "3.6.4"
  }
 },
 "nbformat": 4,
 "nbformat_minor": 2
}
