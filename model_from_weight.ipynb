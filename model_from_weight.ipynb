{
 "cells": [
  {
   "cell_type": "code",
   "execution_count": null,
   "metadata": {},
   "outputs": [],
   "source": [
    "from vgg import VGG\n",
    "import os\n",
    "\n",
    "model = VGG()\n",
    "print(model.summary())\n",
    "weights = './Xml_File/emotion_best_weights.h5'\n",
    "if os.path.exists(weights):\n",
    "    print(\"Loading weight\")\n",
    "    model.load_weights(weights)\n",
    "    print(\"Saving model\")\n",
    "    model.save(\"./Xml_File/emotion_recognition.h5\")\n"
   ]
  }
 ],
 "metadata": {
  "kernelspec": {
   "display_name": "Python 3",
   "language": "python",
   "name": "python3"
  },
  "language_info": {
   "codemirror_mode": {
    "name": "ipython",
    "version": 3
   },
   "file_extension": ".py",
   "mimetype": "text/x-python",
   "name": "python",
   "nbconvert_exporter": "python",
   "pygments_lexer": "ipython3",
   "version": "3.6.4"
  }
 },
 "nbformat": 4,
 "nbformat_minor": 2
}
